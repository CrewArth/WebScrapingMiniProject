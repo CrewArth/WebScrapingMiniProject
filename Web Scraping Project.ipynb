{
 "cells": [
  {
   "cell_type": "code",
   "execution_count": 134,
   "id": "c86cb853",
   "metadata": {},
   "outputs": [],
   "source": [
    "import pandas as pd\n",
    "from bs4 import BeautifulSoup\n",
    "import requests"
   ]
  },
  {
   "cell_type": "code",
   "execution_count": 89,
   "id": "943dcf4b",
   "metadata": {},
   "outputs": [],
   "source": []
  },
  {
   "cell_type": "code",
   "execution_count": 103,
   "id": "5a639cf3",
   "metadata": {},
   "outputs": [
    {
     "name": "stdout",
     "output_type": "stream",
     "text": [
      "200\n"
     ]
    }
   ],
   "source": [
    "url = 'https://www.meraevents.com/search?keyword=workshop'\n",
    "res = requests.get(url)\n",
    "status = res.status_code \n",
    "print(status)"
   ]
  },
  {
   "cell_type": "code",
   "execution_count": 104,
   "id": "d348b0a5",
   "metadata": {},
   "outputs": [],
   "source": [
    "#Contains Raw Html Data.\n",
    "\n",
    "doc = res.text\n",
    "# print(doc)"
   ]
  },
  {
   "cell_type": "code",
   "execution_count": 105,
   "id": "56f188a1",
   "metadata": {},
   "outputs": [],
   "source": [
    "#Using Beautiful Soup and Parsed Data.\n",
    "\n",
    "soup = BeautifulSoup(doc, 'html.parser')\n",
    "# print(soup)"
   ]
  },
  {
   "cell_type": "code",
   "execution_count": 131,
   "id": "60eab867",
   "metadata": {},
   "outputs": [
    {
     "data": {
      "text/plain": [
       "['A Full Day Workshop on Advanced Excel',\n",
       " 'Learn Astrology Certification Course Online',\n",
       " 'Ashtanga Yoga - RYT 200 Training Course India',\n",
       " 'Ashtanga Yoga - RYT 200 Training Course in India',\n",
       " 'Ashtanga Yoga - RYT 200 Training Rishikesh India',\n",
       " 'Ashtanga Yoga - RYT 200 Training in Rishikesh India',\n",
       " 'Ashtanga Yoga RYT 200 Training in Rishikesh India',\n",
       " 'Certified Scrum Master(CSM) Training-APRIL-2-4',\n",
       " 'Certified Scrum Master(CSM) Training-APRIL-6-7',\n",
       " 'Certified Scrum Master(CSM) Training-APRIL-13-14',\n",
       " 'Certified Scrum Master(CSM) Training-APRIL-27-28',\n",
       " 'International D2C Conclave24']"
      ]
     },
     "execution_count": 131,
     "metadata": {},
     "output_type": "execute_result"
    }
   ],
   "source": [
    "#We will fetch Title\n",
    "\n",
    "titleList = []\n",
    "titles = soup.find_all('span', class_ = 'eveHeadWrap')\n",
    "\n",
    "for title in titles:\n",
    "#     print(title.text)\n",
    "#     title = title.text\n",
    "    titleList.append(title.text.strip())\n",
    "\n",
    "    \n",
    "titleList"
   ]
  },
  {
   "cell_type": "code",
   "execution_count": 125,
   "id": "b33c445d",
   "metadata": {},
   "outputs": [
    {
     "data": {
      "text/plain": [
       "['February 24, 2024',\n",
       " 'November 02, 2025',\n",
       " 'September 02, 2026',\n",
       " 'October 02, 2026',\n",
       " 'November 02, 2026',\n",
       " 'November 02, 2026',\n",
       " 'December 02, 2026',\n",
       " 'April 02, 2024',\n",
       " 'April 06, 2024',\n",
       " 'April 13, 2024',\n",
       " 'April 27, 2024',\n",
       " 'March 30, 2024']"
      ]
     },
     "execution_count": 125,
     "metadata": {},
     "output_type": "execute_result"
    }
   ],
   "source": [
    "#We will fetch Date\n",
    "\n",
    "dateList = []\n",
    "dates = soup.find_all('div', class_ = 'info')\n",
    "\n",
    "for date in dates:\n",
    "#     print(date.text)\n",
    "    dateList.append(date.text.strip())\n",
    "    \n",
    "dateList"
   ]
  },
  {
   "cell_type": "code",
   "execution_count": 127,
   "id": "4f7989c3",
   "metadata": {},
   "outputs": [
    {
     "data": {
      "text/plain": [
       "['Kolkata',\n",
       " 'Online',\n",
       " 'RISHIKESH',\n",
       " 'RISHIKESH',\n",
       " 'RISHIKESH',\n",
       " 'RISHIKESH',\n",
       " 'RISHIKESH',\n",
       " 'Online',\n",
       " 'Online',\n",
       " 'Online',\n",
       " 'Online',\n",
       " 'Bengaluru']"
      ]
     },
     "execution_count": 127,
     "metadata": {},
     "output_type": "execute_result"
    }
   ],
   "source": [
    "#We will fetch Location\n",
    "\n",
    "locationList = []\n",
    "locations = soup.find_all('div', class_ = 'eventCity')\n",
    "\n",
    "for location in locations:\n",
    "#     print(location.text)\n",
    "    locationList.append(location.text.strip())\n",
    "    \n",
    "locationList"
   ]
  },
  {
   "cell_type": "code",
   "execution_count": 128,
   "id": "037fdf94",
   "metadata": {},
   "outputs": [
    {
     "data": {
      "text/plain": [
       "['Training & Workshops',\n",
       " 'Training & Workshops',\n",
       " 'Training & Workshops',\n",
       " 'Training & Workshops',\n",
       " 'Training & Workshops',\n",
       " 'Training & Workshops',\n",
       " 'Training & Workshops',\n",
       " 'Training & Workshops',\n",
       " 'Training & Workshops',\n",
       " 'Training & Workshops',\n",
       " 'Training & Workshops',\n",
       " 'Professional']"
      ]
     },
     "execution_count": 128,
     "metadata": {},
     "output_type": "execute_result"
    }
   ],
   "source": [
    "#We will fetch Event Type\n",
    "\n",
    "eventList = []\n",
    "events = soup.find_all('span', class_ = 'catName')\n",
    "\n",
    "for event in events:\n",
    "#     print(event.text)\n",
    "    eventList.append(event.text.strip())\n",
    "    \n",
    "eventList"
   ]
  },
  {
   "cell_type": "code",
   "execution_count": 133,
   "id": "7110c3b9",
   "metadata": {},
   "outputs": [
    {
     "data": {
      "text/html": [
       "<div>\n",
       "<style scoped>\n",
       "    .dataframe tbody tr th:only-of-type {\n",
       "        vertical-align: middle;\n",
       "    }\n",
       "\n",
       "    .dataframe tbody tr th {\n",
       "        vertical-align: top;\n",
       "    }\n",
       "\n",
       "    .dataframe thead th {\n",
       "        text-align: right;\n",
       "    }\n",
       "</style>\n",
       "<table border=\"1\" class=\"dataframe\">\n",
       "  <thead>\n",
       "    <tr style=\"text-align: right;\">\n",
       "      <th></th>\n",
       "      <th>Title</th>\n",
       "      <th>Date</th>\n",
       "      <th>Location</th>\n",
       "      <th>Event Type</th>\n",
       "    </tr>\n",
       "  </thead>\n",
       "  <tbody>\n",
       "    <tr>\n",
       "      <th>0</th>\n",
       "      <td>A Full Day Workshop on Advanced Excel</td>\n",
       "      <td>February 24, 2024</td>\n",
       "      <td>Kolkata</td>\n",
       "      <td>Training &amp; Workshops</td>\n",
       "    </tr>\n",
       "    <tr>\n",
       "      <th>1</th>\n",
       "      <td>Learn Astrology Certification Course Online</td>\n",
       "      <td>November 02, 2025</td>\n",
       "      <td>Online</td>\n",
       "      <td>Training &amp; Workshops</td>\n",
       "    </tr>\n",
       "    <tr>\n",
       "      <th>2</th>\n",
       "      <td>Ashtanga Yoga - RYT 200 Training Course India</td>\n",
       "      <td>September 02, 2026</td>\n",
       "      <td>RISHIKESH</td>\n",
       "      <td>Training &amp; Workshops</td>\n",
       "    </tr>\n",
       "    <tr>\n",
       "      <th>3</th>\n",
       "      <td>Ashtanga Yoga - RYT 200 Training Course in India</td>\n",
       "      <td>October 02, 2026</td>\n",
       "      <td>RISHIKESH</td>\n",
       "      <td>Training &amp; Workshops</td>\n",
       "    </tr>\n",
       "    <tr>\n",
       "      <th>4</th>\n",
       "      <td>Ashtanga Yoga - RYT 200 Training Rishikesh India</td>\n",
       "      <td>November 02, 2026</td>\n",
       "      <td>RISHIKESH</td>\n",
       "      <td>Training &amp; Workshops</td>\n",
       "    </tr>\n",
       "    <tr>\n",
       "      <th>5</th>\n",
       "      <td>Ashtanga Yoga - RYT 200 Training in Rishikesh ...</td>\n",
       "      <td>November 02, 2026</td>\n",
       "      <td>RISHIKESH</td>\n",
       "      <td>Training &amp; Workshops</td>\n",
       "    </tr>\n",
       "    <tr>\n",
       "      <th>6</th>\n",
       "      <td>Ashtanga Yoga RYT 200 Training in Rishikesh India</td>\n",
       "      <td>December 02, 2026</td>\n",
       "      <td>RISHIKESH</td>\n",
       "      <td>Training &amp; Workshops</td>\n",
       "    </tr>\n",
       "    <tr>\n",
       "      <th>7</th>\n",
       "      <td>Certified Scrum Master(CSM) Training-APRIL-2-4</td>\n",
       "      <td>April 02, 2024</td>\n",
       "      <td>Online</td>\n",
       "      <td>Training &amp; Workshops</td>\n",
       "    </tr>\n",
       "    <tr>\n",
       "      <th>8</th>\n",
       "      <td>Certified Scrum Master(CSM) Training-APRIL-6-7</td>\n",
       "      <td>April 06, 2024</td>\n",
       "      <td>Online</td>\n",
       "      <td>Training &amp; Workshops</td>\n",
       "    </tr>\n",
       "    <tr>\n",
       "      <th>9</th>\n",
       "      <td>Certified Scrum Master(CSM) Training-APRIL-13-14</td>\n",
       "      <td>April 13, 2024</td>\n",
       "      <td>Online</td>\n",
       "      <td>Training &amp; Workshops</td>\n",
       "    </tr>\n",
       "    <tr>\n",
       "      <th>10</th>\n",
       "      <td>Certified Scrum Master(CSM) Training-APRIL-27-28</td>\n",
       "      <td>April 27, 2024</td>\n",
       "      <td>Online</td>\n",
       "      <td>Training &amp; Workshops</td>\n",
       "    </tr>\n",
       "    <tr>\n",
       "      <th>11</th>\n",
       "      <td>International D2C Conclave24</td>\n",
       "      <td>March 30, 2024</td>\n",
       "      <td>Bengaluru</td>\n",
       "      <td>Professional</td>\n",
       "    </tr>\n",
       "  </tbody>\n",
       "</table>\n",
       "</div>"
      ],
      "text/plain": [
       "                                                Title                Date  \\\n",
       "0               A Full Day Workshop on Advanced Excel   February 24, 2024   \n",
       "1         Learn Astrology Certification Course Online   November 02, 2025   \n",
       "2       Ashtanga Yoga - RYT 200 Training Course India  September 02, 2026   \n",
       "3    Ashtanga Yoga - RYT 200 Training Course in India    October 02, 2026   \n",
       "4    Ashtanga Yoga - RYT 200 Training Rishikesh India   November 02, 2026   \n",
       "5   Ashtanga Yoga - RYT 200 Training in Rishikesh ...   November 02, 2026   \n",
       "6   Ashtanga Yoga RYT 200 Training in Rishikesh India   December 02, 2026   \n",
       "7      Certified Scrum Master(CSM) Training-APRIL-2-4      April 02, 2024   \n",
       "8      Certified Scrum Master(CSM) Training-APRIL-6-7      April 06, 2024   \n",
       "9    Certified Scrum Master(CSM) Training-APRIL-13-14      April 13, 2024   \n",
       "10   Certified Scrum Master(CSM) Training-APRIL-27-28      April 27, 2024   \n",
       "11                       International D2C Conclave24      March 30, 2024   \n",
       "\n",
       "     Location            Event Type  \n",
       "0     Kolkata  Training & Workshops  \n",
       "1      Online  Training & Workshops  \n",
       "2   RISHIKESH  Training & Workshops  \n",
       "3   RISHIKESH  Training & Workshops  \n",
       "4   RISHIKESH  Training & Workshops  \n",
       "5   RISHIKESH  Training & Workshops  \n",
       "6   RISHIKESH  Training & Workshops  \n",
       "7      Online  Training & Workshops  \n",
       "8      Online  Training & Workshops  \n",
       "9      Online  Training & Workshops  \n",
       "10     Online  Training & Workshops  \n",
       "11  Bengaluru          Professional  "
      ]
     },
     "execution_count": 133,
     "metadata": {},
     "output_type": "execute_result"
    }
   ],
   "source": [
    "#Converting this Informal Data into DataFrame.\n",
    "\n",
    "FinalData = {\n",
    "    'Title' : titleList,\n",
    "    'Date' : dateList,\n",
    "    'Location' : locationList,\n",
    "    'Event Type' : eventList\n",
    "}\n",
    "\n",
    "df = pd.DataFrame.from_dict(FinalData, orient='index')\n",
    "df.transpose()"
   ]
  },
  {
   "cell_type": "code",
   "execution_count": 135,
   "id": "877eeb48",
   "metadata": {},
   "outputs": [],
   "source": [
    "#Export this DataFrame into .csv File\n",
    "\n",
    "df.to_csv('EventListing.csv')"
   ]
  },
  {
   "cell_type": "code",
   "execution_count": 137,
   "id": "e25e1882",
   "metadata": {},
   "outputs": [
    {
     "name": "stdout",
     "output_type": "stream",
     "text": [
      "12 12 12 12\n"
     ]
    }
   ],
   "source": [
    "print(len(titleList),len(dateList),len(locationList),len(eventList),)"
   ]
  }
 ],
 "metadata": {
  "kernelspec": {
   "display_name": "Python 3 (ipykernel)",
   "language": "python",
   "name": "python3"
  },
  "language_info": {
   "codemirror_mode": {
    "name": "ipython",
    "version": 3
   },
   "file_extension": ".py",
   "mimetype": "text/x-python",
   "name": "python",
   "nbconvert_exporter": "python",
   "pygments_lexer": "ipython3",
   "version": "3.11.5"
  }
 },
 "nbformat": 4,
 "nbformat_minor": 5
}
